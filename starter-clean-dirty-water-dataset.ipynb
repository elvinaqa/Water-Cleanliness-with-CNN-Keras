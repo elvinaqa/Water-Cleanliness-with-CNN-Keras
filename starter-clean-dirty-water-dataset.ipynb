{
 "cells": [
  {
   "cell_type": "markdown",
   "metadata": {
    "papermill": {
     "duration": 0.007177,
     "end_time": "2020-09-25T19:51:56.272319",
     "exception": false,
     "start_time": "2020-09-25T19:51:56.265142",
     "status": "completed"
    },
    "tags": []
   },
   "source": [
    "## Introduction\n",
    "Greetings from the Kaggle bot! This is an automatically-generated kernel with starter code demonstrating how to read in the data and begin exploring. Click the blue \"Edit Notebook\" or \"Fork Notebook\" button at the top of this kernel to begin editing."
   ]
  },
  {
   "cell_type": "markdown",
   "metadata": {
    "papermill": {
     "duration": 0.005637,
     "end_time": "2020-09-25T19:51:56.284355",
     "exception": false,
     "start_time": "2020-09-25T19:51:56.278718",
     "status": "completed"
    },
    "tags": []
   },
   "source": [
    "## Exploratory Analysis\n",
    "To begin this exploratory analysis, first use `matplotlib` to import libraries and define functions for plotting the data. Depending on the data, not all plots will be made. (Hey, I'm just a kerneling bot, not a Kaggle Competitions Grandmaster!)"
   ]
  },
  {
   "cell_type": "code",
   "execution_count": 1,
   "metadata": {
    "_kg_hide-input": false,
    "execution": {
     "iopub.execute_input": "2020-09-25T19:51:56.302240Z",
     "iopub.status.busy": "2020-09-25T19:51:56.301530Z",
     "iopub.status.idle": "2020-09-25T19:51:57.161342Z",
     "shell.execute_reply": "2020-09-25T19:51:57.160723Z"
    },
    "papermill": {
     "duration": 0.870946,
     "end_time": "2020-09-25T19:51:57.161467",
     "exception": false,
     "start_time": "2020-09-25T19:51:56.290521",
     "status": "completed"
    },
    "tags": []
   },
   "outputs": [],
   "source": [
    "from mpl_toolkits.mplot3d import Axes3D\n",
    "from sklearn.preprocessing import StandardScaler\n",
    "import matplotlib.pyplot as plt # plotting\n",
    "import numpy as np # linear algebra\n",
    "import os # accessing directory structure\n",
    "import pandas as pd # data processing, CSV file I/O (e.g. pd.read_csv)\n"
   ]
  },
  {
   "cell_type": "markdown",
   "metadata": {
    "papermill": {
     "duration": 0.006222,
     "end_time": "2020-09-25T19:51:57.174506",
     "exception": false,
     "start_time": "2020-09-25T19:51:57.168284",
     "status": "completed"
    },
    "tags": []
   },
   "source": [
    "There is 0 csv file in the current version of the dataset:\n"
   ]
  },
  {
   "cell_type": "code",
   "execution_count": 2,
   "metadata": {
    "_kg_hide-input": false,
    "execution": {
     "iopub.execute_input": "2020-09-25T19:51:57.192089Z",
     "iopub.status.busy": "2020-09-25T19:51:57.191445Z",
     "iopub.status.idle": "2020-09-25T19:51:57.211216Z",
     "shell.execute_reply": "2020-09-25T19:51:57.212000Z"
    },
    "papermill": {
     "duration": 0.031585,
     "end_time": "2020-09-25T19:51:57.212226",
     "exception": false,
     "start_time": "2020-09-25T19:51:57.180641",
     "status": "completed"
    },
    "tags": []
   },
   "outputs": [
    {
     "name": "stdout",
     "output_type": "stream",
     "text": [
      "/kaggle/input/water images/train/Clean-samples/28.jpg\n",
      "/kaggle/input/water images/train/Clean-samples/8.jpg\n",
      "/kaggle/input/water images/train/Clean-samples/11.jpg\n",
      "/kaggle/input/water images/train/Clean-samples/19.jpg\n",
      "/kaggle/input/water images/train/Clean-samples/20.jpg\n",
      "/kaggle/input/water images/train/Clean-samples/10.jpg\n",
      "/kaggle/input/water images/train/Clean-samples/27.jpg\n",
      "/kaggle/input/water images/train/Clean-samples/14.jpg\n",
      "/kaggle/input/water images/train/Clean-samples/16.jpg\n",
      "/kaggle/input/water images/train/Clean-samples/2.jpg\n",
      "/kaggle/input/water images/train/Clean-samples/18.jpg\n",
      "/kaggle/input/water images/train/Clean-samples/22.jpg\n",
      "/kaggle/input/water images/train/Clean-samples/24.jpg\n",
      "/kaggle/input/water images/train/Clean-samples/25.jpg\n",
      "/kaggle/input/water images/train/Clean-samples/7.jpg\n",
      "/kaggle/input/water images/train/Clean-samples/35.jpg\n",
      "/kaggle/input/water images/train/Clean-samples/1.jpg\n",
      "/kaggle/input/water images/train/Clean-samples/3.jpg\n",
      "/kaggle/input/water images/train/Clean-samples/21.jpg\n",
      "/kaggle/input/water images/train/Clean-samples/12.jpg\n",
      "/kaggle/input/water images/train/Clean-samples/17.jpg\n",
      "/kaggle/input/water images/train/Clean-samples/6.jpg\n",
      "/kaggle/input/water images/train/Clean-samples/26.jpg\n",
      "/kaggle/input/water images/train/Clean-samples/23.jpg\n",
      "/kaggle/input/water images/train/Clean-samples/5.jpg\n",
      "/kaggle/input/water images/train/Clean-samples/15.jpg\n",
      "/kaggle/input/water images/train/Clean-samples/0.jpg\n",
      "/kaggle/input/water images/train/Clean-samples/9.jpg\n",
      "/kaggle/input/water images/train/Clean-samples/13.jpg\n",
      "/kaggle/input/water images/train/Clean-samples/34.jpg\n",
      "/kaggle/input/water images/train/Clean-samples/4.jpg\n",
      "/kaggle/input/water images/train/Dirty-samples/8.jpg\n",
      "/kaggle/input/water images/train/Dirty-samples/11.jpg\n",
      "/kaggle/input/water images/train/Dirty-samples/10.jpg\n",
      "/kaggle/input/water images/train/Dirty-samples/14.jpg\n",
      "/kaggle/input/water images/train/Dirty-samples/2.jpg\n",
      "/kaggle/input/water images/train/Dirty-samples/7.jpg\n",
      "/kaggle/input/water images/train/Dirty-samples/1.jpg\n",
      "/kaggle/input/water images/train/Dirty-samples/3.jpg\n",
      "/kaggle/input/water images/train/Dirty-samples/12.jpg\n",
      "/kaggle/input/water images/train/Dirty-samples/6.jpg\n",
      "/kaggle/input/water images/train/Dirty-samples/5.jpg\n",
      "/kaggle/input/water images/train/Dirty-samples/15.jpg\n",
      "/kaggle/input/water images/train/Dirty-samples/0.jpg\n",
      "/kaggle/input/water images/train/Dirty-samples/9.jpg\n",
      "/kaggle/input/water images/train/Dirty-samples/13.jpg\n",
      "/kaggle/input/water images/train/Dirty-samples/4.jpg\n",
      "/kaggle/input/water images/test/Clean-samples/31.jpg\n",
      "/kaggle/input/water images/test/Clean-samples/36.jpg\n",
      "/kaggle/input/water images/test/Clean-samples/33.jpg\n",
      "/kaggle/input/water images/test/Clean-samples/37.jpg\n",
      "/kaggle/input/water images/test/Clean-samples/32.jpg\n",
      "/kaggle/input/water images/test/Clean-samples/30.jpg\n",
      "/kaggle/input/water images/test/Clean-samples/29.jpg\n",
      "/kaggle/input/water images/test/Clean-samples/39.jpg\n",
      "/kaggle/input/water images/test/Clean-samples/38.jpg\n",
      "/kaggle/input/water images/test/Dirty-samples/19.jpg\n",
      "/kaggle/input/water images/test/Dirty-samples/16.jpg\n",
      "/kaggle/input/water images/test/Dirty-samples/18.jpg\n",
      "/kaggle/input/water images/test/Dirty-samples/17.jpg\n",
      "/kaggle/input/water images/test/Dirty-samples/15.jpg\n"
     ]
    }
   ],
   "source": [
    "for dirname, _, filenames in os.walk('/kaggle/input'):\n",
    "    for filename in filenames:\n",
    "        print(os.path.join(dirname, filename))\n"
   ]
  },
  {
   "cell_type": "markdown",
   "metadata": {
    "papermill": {
     "duration": 0.007295,
     "end_time": "2020-09-25T19:51:57.231549",
     "exception": false,
     "start_time": "2020-09-25T19:51:57.224254",
     "status": "completed"
    },
    "tags": []
   },
   "source": [
    "The next hidden code cells define functions for plotting data. Click on the \"Code\" button in the published kernel to reveal the hidden code."
   ]
  },
  {
   "cell_type": "code",
   "execution_count": 3,
   "metadata": {
    "_kg_hide-input": true,
    "execution": {
     "iopub.execute_input": "2020-09-25T19:51:57.257001Z",
     "iopub.status.busy": "2020-09-25T19:51:57.254108Z",
     "iopub.status.idle": "2020-09-25T19:51:57.260619Z",
     "shell.execute_reply": "2020-09-25T19:51:57.259744Z"
    },
    "papermill": {
     "duration": 0.022043,
     "end_time": "2020-09-25T19:51:57.260781",
     "exception": false,
     "start_time": "2020-09-25T19:51:57.238738",
     "status": "completed"
    },
    "tags": []
   },
   "outputs": [],
   "source": [
    "# Distribution graphs (histogram/bar graph) of column data\n",
    "def plotPerColumnDistribution(df, nGraphShown, nGraphPerRow):\n",
    "    nunique = df.nunique()\n",
    "    df = df[[col for col in df if nunique[col] > 1 and nunique[col] < 50]] # For displaying purposes, pick columns that have between 1 and 50 unique values\n",
    "    nRow, nCol = df.shape\n",
    "    columnNames = list(df)\n",
    "    nGraphRow = (nCol + nGraphPerRow - 1) / nGraphPerRow\n",
    "    plt.figure(num = None, figsize = (6 * nGraphPerRow, 8 * nGraphRow), dpi = 80, facecolor = 'w', edgecolor = 'k')\n",
    "    for i in range(min(nCol, nGraphShown)):\n",
    "        plt.subplot(nGraphRow, nGraphPerRow, i + 1)\n",
    "        columnDf = df.iloc[:, i]\n",
    "        if (not np.issubdtype(type(columnDf.iloc[0]), np.number)):\n",
    "            valueCounts = columnDf.value_counts()\n",
    "            valueCounts.plot.bar()\n",
    "        else:\n",
    "            columnDf.hist()\n",
    "        plt.ylabel('counts')\n",
    "        plt.xticks(rotation = 90)\n",
    "        plt.title(f'{columnNames[i]} (column {i})')\n",
    "    plt.tight_layout(pad = 1.0, w_pad = 1.0, h_pad = 1.0)\n",
    "    plt.show()\n"
   ]
  },
  {
   "cell_type": "code",
   "execution_count": 4,
   "metadata": {
    "_kg_hide-input": true,
    "execution": {
     "iopub.execute_input": "2020-09-25T19:51:57.284523Z",
     "iopub.status.busy": "2020-09-25T19:51:57.283812Z",
     "iopub.status.idle": "2020-09-25T19:51:57.287003Z",
     "shell.execute_reply": "2020-09-25T19:51:57.286452Z"
    },
    "papermill": {
     "duration": 0.019295,
     "end_time": "2020-09-25T19:51:57.287118",
     "exception": false,
     "start_time": "2020-09-25T19:51:57.267823",
     "status": "completed"
    },
    "tags": []
   },
   "outputs": [],
   "source": [
    "# Correlation matrix\n",
    "def plotCorrelationMatrix(df, graphWidth):\n",
    "    filename = df.dataframeName\n",
    "    df = df.dropna('columns') # drop columns with NaN\n",
    "    df = df[[col for col in df if df[col].nunique() > 1]] # keep columns where there are more than 1 unique values\n",
    "    if df.shape[1] < 2:\n",
    "        print(f'No correlation plots shown: The number of non-NaN or constant columns ({df.shape[1]}) is less than 2')\n",
    "        return\n",
    "    corr = df.corr()\n",
    "    plt.figure(num=None, figsize=(graphWidth, graphWidth), dpi=80, facecolor='w', edgecolor='k')\n",
    "    corrMat = plt.matshow(corr, fignum = 1)\n",
    "    plt.xticks(range(len(corr.columns)), corr.columns, rotation=90)\n",
    "    plt.yticks(range(len(corr.columns)), corr.columns)\n",
    "    plt.gca().xaxis.tick_bottom()\n",
    "    plt.colorbar(corrMat)\n",
    "    plt.title(f'Correlation Matrix for {filename}', fontsize=15)\n",
    "    plt.show()\n"
   ]
  },
  {
   "cell_type": "code",
   "execution_count": 5,
   "metadata": {
    "_kg_hide-input": true,
    "execution": {
     "iopub.execute_input": "2020-09-25T19:51:57.311382Z",
     "iopub.status.busy": "2020-09-25T19:51:57.310668Z",
     "iopub.status.idle": "2020-09-25T19:51:57.313413Z",
     "shell.execute_reply": "2020-09-25T19:51:57.313897Z"
    },
    "papermill": {
     "duration": 0.019819,
     "end_time": "2020-09-25T19:51:57.314062",
     "exception": false,
     "start_time": "2020-09-25T19:51:57.294243",
     "status": "completed"
    },
    "tags": []
   },
   "outputs": [],
   "source": [
    "# Scatter and density plots\n",
    "def plotScatterMatrix(df, plotSize, textSize):\n",
    "    df = df.select_dtypes(include =[np.number]) # keep only numerical columns\n",
    "    # Remove rows and columns that would lead to df being singular\n",
    "    df = df.dropna('columns')\n",
    "    df = df[[col for col in df if df[col].nunique() > 1]] # keep columns where there are more than 1 unique values\n",
    "    columnNames = list(df)\n",
    "    if len(columnNames) > 10: # reduce the number of columns for matrix inversion of kernel density plots\n",
    "        columnNames = columnNames[:10]\n",
    "    df = df[columnNames]\n",
    "    ax = pd.plotting.scatter_matrix(df, alpha=0.75, figsize=[plotSize, plotSize], diagonal='kde')\n",
    "    corrs = df.corr().values\n",
    "    for i, j in zip(*plt.np.triu_indices_from(ax, k = 1)):\n",
    "        ax[i, j].annotate('Corr. coef = %.3f' % corrs[i, j], (0.8, 0.2), xycoords='axes fraction', ha='center', va='center', size=textSize)\n",
    "    plt.suptitle('Scatter and Density Plot')\n",
    "    plt.show()\n"
   ]
  },
  {
   "cell_type": "markdown",
   "metadata": {
    "papermill": {
     "duration": 0.006937,
     "end_time": "2020-09-25T19:51:57.329986",
     "exception": false,
     "start_time": "2020-09-25T19:51:57.323049",
     "status": "completed"
    },
    "tags": []
   },
   "source": [
    "Oh, no! There are no automatic insights available for the file types used in this dataset. As your Kaggle kerneler bot, I'll keep working to fine-tune my hyper-parameters. In the meantime, please feel free to try a different dataset."
   ]
  },
  {
   "cell_type": "markdown",
   "metadata": {
    "papermill": {
     "duration": 0.007119,
     "end_time": "2020-09-25T19:51:57.344420",
     "exception": false,
     "start_time": "2020-09-25T19:51:57.337301",
     "status": "completed"
    },
    "tags": []
   },
   "source": [
    "## Conclusion\n",
    "This concludes your starter analysis! To go forward from here, click the blue \"Edit Notebook\" button at the top of the kernel. This will create a copy of the code and environment for you to edit. Delete, modify, and add code as you please. Happy Kaggling!"
   ]
  }
 ],
 "metadata": {
  "kernelspec": {
   "display_name": "Python 3",
   "language": "python",
   "name": "python3"
  },
  "language_info": {
   "codemirror_mode": {
    "name": "ipython",
    "version": 3
   },
   "file_extension": ".py",
   "mimetype": "text/x-python",
   "name": "python",
   "nbconvert_exporter": "python",
   "pygments_lexer": "ipython3",
   "version": "3.7.6"
  },
  "papermill": {
   "duration": 5.326951,
   "end_time": "2020-09-25T19:51:57.460580",
   "environment_variables": {},
   "exception": null,
   "input_path": "__notebook__.ipynb",
   "output_path": "__notebook__.ipynb",
   "parameters": {},
   "start_time": "2020-09-25T19:51:52.133629",
   "version": "2.1.0"
  }
 },
 "nbformat": 4,
 "nbformat_minor": 4
}
